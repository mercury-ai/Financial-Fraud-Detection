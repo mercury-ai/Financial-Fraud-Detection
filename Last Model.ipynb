{
 "cells": [
  {
   "cell_type": "markdown",
   "metadata": {},
   "source": [
    "<h3>Financial Fraud Detection Using Machine Learning</h3>\n",
    "<h4>Project by : team okcomputer</h4> \n",
    "<h4>Author : Hari Govind V</h4>\n",
    "<br><br><br>\n",
    "\n",
    "\n",
    "\n",
    "<p>This is a machine learning model to detect fraudulent transactions. Trained on the <a href = 'https://www.kaggle.com/ntnu-testimon/paysim1'>PaySim dataset</a>, this model is built after exploring the concepts of exploratory data analysis, feature engineering, and other machine learning concepts.\n",
    "    \n",
    "\n"
   ]
  },
  {
   "cell_type": "markdown",
   "metadata": {},
   "source": [
    "<h6>Importing The Libraries For Data Reading</h6>"
   ]
  },
  {
   "cell_type": "code",
   "execution_count": 2,
   "metadata": {},
   "outputs": [],
   "source": [
    "import pandas as pd\n",
    "import numpy as np\n",
    "import pickle"
   ]
  },
  {
   "cell_type": "code",
   "execution_count": 214,
   "metadata": {},
   "outputs": [],
   "source": [
    "df = pd.read_csv('hackathon.csv')"
   ]
  },
  {
   "cell_type": "markdown",
   "metadata": {},
   "source": [
    "<p>The original <a href='https://www.kaggle.com/ntnu-testimon/paysim1'>Paysim Dataset</a> is highly unbalanced, so I shuffled a random pack and created a new balanced dataset (hackathon.csv) using pandas data sampling, on which this model is going to be trained.</p>"
   ]
  },
  {
   "cell_type": "markdown",
   "metadata": {},
   "source": [
    "<h6>Basic EDA</h6>"
   ]
  },
  {
   "cell_type": "markdown",
   "metadata": {},
   "source": [
    "<p>Checking the columns of the dataset</p>"
   ]
  },
  {
   "cell_type": "code",
   "execution_count": 215,
   "metadata": {},
   "outputs": [
    {
     "data": {
      "text/html": [
       "<div>\n",
       "<style scoped>\n",
       "    .dataframe tbody tr th:only-of-type {\n",
       "        vertical-align: middle;\n",
       "    }\n",
       "\n",
       "    .dataframe tbody tr th {\n",
       "        vertical-align: top;\n",
       "    }\n",
       "\n",
       "    .dataframe thead th {\n",
       "        text-align: right;\n",
       "    }\n",
       "</style>\n",
       "<table border=\"1\" class=\"dataframe\">\n",
       "  <thead>\n",
       "    <tr style=\"text-align: right;\">\n",
       "      <th></th>\n",
       "      <th>Unnamed: 0</th>\n",
       "      <th>step</th>\n",
       "      <th>type</th>\n",
       "      <th>amount</th>\n",
       "      <th>nameOrig</th>\n",
       "      <th>oldbalanceOrg</th>\n",
       "      <th>newbalanceOrig</th>\n",
       "      <th>nameDest</th>\n",
       "      <th>oldbalanceDest</th>\n",
       "      <th>newbalanceDest</th>\n",
       "      <th>isFraud</th>\n",
       "      <th>isFlaggedFraud</th>\n",
       "    </tr>\n",
       "  </thead>\n",
       "  <tbody>\n",
       "    <tr>\n",
       "      <th>0</th>\n",
       "      <td>2</td>\n",
       "      <td>1</td>\n",
       "      <td>TRANSFER</td>\n",
       "      <td>181.0</td>\n",
       "      <td>C1305486145</td>\n",
       "      <td>181.0</td>\n",
       "      <td>0.0</td>\n",
       "      <td>C553264065</td>\n",
       "      <td>0.0</td>\n",
       "      <td>0.0</td>\n",
       "      <td>1</td>\n",
       "      <td>0</td>\n",
       "    </tr>\n",
       "    <tr>\n",
       "      <th>1</th>\n",
       "      <td>3</td>\n",
       "      <td>1</td>\n",
       "      <td>CASH_OUT</td>\n",
       "      <td>181.0</td>\n",
       "      <td>C840083671</td>\n",
       "      <td>181.0</td>\n",
       "      <td>0.0</td>\n",
       "      <td>C38997010</td>\n",
       "      <td>21182.0</td>\n",
       "      <td>0.0</td>\n",
       "      <td>1</td>\n",
       "      <td>0</td>\n",
       "    </tr>\n",
       "    <tr>\n",
       "      <th>2</th>\n",
       "      <td>251</td>\n",
       "      <td>1</td>\n",
       "      <td>TRANSFER</td>\n",
       "      <td>2806.0</td>\n",
       "      <td>C1420196421</td>\n",
       "      <td>2806.0</td>\n",
       "      <td>0.0</td>\n",
       "      <td>C972765878</td>\n",
       "      <td>0.0</td>\n",
       "      <td>0.0</td>\n",
       "      <td>1</td>\n",
       "      <td>0</td>\n",
       "    </tr>\n",
       "    <tr>\n",
       "      <th>3</th>\n",
       "      <td>252</td>\n",
       "      <td>1</td>\n",
       "      <td>CASH_OUT</td>\n",
       "      <td>2806.0</td>\n",
       "      <td>C2101527076</td>\n",
       "      <td>2806.0</td>\n",
       "      <td>0.0</td>\n",
       "      <td>C1007251739</td>\n",
       "      <td>26202.0</td>\n",
       "      <td>0.0</td>\n",
       "      <td>1</td>\n",
       "      <td>0</td>\n",
       "    </tr>\n",
       "    <tr>\n",
       "      <th>4</th>\n",
       "      <td>680</td>\n",
       "      <td>1</td>\n",
       "      <td>TRANSFER</td>\n",
       "      <td>20128.0</td>\n",
       "      <td>C137533655</td>\n",
       "      <td>20128.0</td>\n",
       "      <td>0.0</td>\n",
       "      <td>C1848415041</td>\n",
       "      <td>0.0</td>\n",
       "      <td>0.0</td>\n",
       "      <td>1</td>\n",
       "      <td>0</td>\n",
       "    </tr>\n",
       "  </tbody>\n",
       "</table>\n",
       "</div>"
      ],
      "text/plain": [
       "   Unnamed: 0  step      type   amount     nameOrig  oldbalanceOrg  \\\n",
       "0           2     1  TRANSFER    181.0  C1305486145          181.0   \n",
       "1           3     1  CASH_OUT    181.0   C840083671          181.0   \n",
       "2         251     1  TRANSFER   2806.0  C1420196421         2806.0   \n",
       "3         252     1  CASH_OUT   2806.0  C2101527076         2806.0   \n",
       "4         680     1  TRANSFER  20128.0   C137533655        20128.0   \n",
       "\n",
       "   newbalanceOrig     nameDest  oldbalanceDest  newbalanceDest  isFraud  \\\n",
       "0             0.0   C553264065             0.0             0.0        1   \n",
       "1             0.0    C38997010         21182.0             0.0        1   \n",
       "2             0.0   C972765878             0.0             0.0        1   \n",
       "3             0.0  C1007251739         26202.0             0.0        1   \n",
       "4             0.0  C1848415041             0.0             0.0        1   \n",
       "\n",
       "   isFlaggedFraud  \n",
       "0               0  \n",
       "1               0  \n",
       "2               0  \n",
       "3               0  \n",
       "4               0  "
      ]
     },
     "execution_count": 215,
     "metadata": {},
     "output_type": "execute_result"
    }
   ],
   "source": [
    "df.head()"
   ]
  },
  {
   "cell_type": "markdown",
   "metadata": {},
   "source": [
    "<p>Resetting the index of the dataframe</p>"
   ]
  },
  {
   "cell_type": "code",
   "execution_count": 216,
   "metadata": {},
   "outputs": [
    {
     "data": {
      "text/html": [
       "<div>\n",
       "<style scoped>\n",
       "    .dataframe tbody tr th:only-of-type {\n",
       "        vertical-align: middle;\n",
       "    }\n",
       "\n",
       "    .dataframe tbody tr th {\n",
       "        vertical-align: top;\n",
       "    }\n",
       "\n",
       "    .dataframe thead th {\n",
       "        text-align: right;\n",
       "    }\n",
       "</style>\n",
       "<table border=\"1\" class=\"dataframe\">\n",
       "  <thead>\n",
       "    <tr style=\"text-align: right;\">\n",
       "      <th></th>\n",
       "      <th>Unnamed: 0</th>\n",
       "      <th>step</th>\n",
       "      <th>type</th>\n",
       "      <th>amount</th>\n",
       "      <th>nameOrig</th>\n",
       "      <th>oldbalanceOrg</th>\n",
       "      <th>newbalanceOrig</th>\n",
       "      <th>nameDest</th>\n",
       "      <th>oldbalanceDest</th>\n",
       "      <th>newbalanceDest</th>\n",
       "      <th>isFraud</th>\n",
       "      <th>isFlaggedFraud</th>\n",
       "    </tr>\n",
       "  </thead>\n",
       "  <tbody>\n",
       "    <tr>\n",
       "      <th>0</th>\n",
       "      <td>2</td>\n",
       "      <td>1</td>\n",
       "      <td>TRANSFER</td>\n",
       "      <td>181.00</td>\n",
       "      <td>C1305486145</td>\n",
       "      <td>181.00</td>\n",
       "      <td>0.00</td>\n",
       "      <td>C553264065</td>\n",
       "      <td>0.00</td>\n",
       "      <td>0.00</td>\n",
       "      <td>1</td>\n",
       "      <td>0</td>\n",
       "    </tr>\n",
       "    <tr>\n",
       "      <th>1</th>\n",
       "      <td>3</td>\n",
       "      <td>1</td>\n",
       "      <td>CASH_OUT</td>\n",
       "      <td>181.00</td>\n",
       "      <td>C840083671</td>\n",
       "      <td>181.00</td>\n",
       "      <td>0.00</td>\n",
       "      <td>C38997010</td>\n",
       "      <td>21182.00</td>\n",
       "      <td>0.00</td>\n",
       "      <td>1</td>\n",
       "      <td>0</td>\n",
       "    </tr>\n",
       "    <tr>\n",
       "      <th>2</th>\n",
       "      <td>251</td>\n",
       "      <td>1</td>\n",
       "      <td>TRANSFER</td>\n",
       "      <td>2806.00</td>\n",
       "      <td>C1420196421</td>\n",
       "      <td>2806.00</td>\n",
       "      <td>0.00</td>\n",
       "      <td>C972765878</td>\n",
       "      <td>0.00</td>\n",
       "      <td>0.00</td>\n",
       "      <td>1</td>\n",
       "      <td>0</td>\n",
       "    </tr>\n",
       "    <tr>\n",
       "      <th>3</th>\n",
       "      <td>252</td>\n",
       "      <td>1</td>\n",
       "      <td>CASH_OUT</td>\n",
       "      <td>2806.00</td>\n",
       "      <td>C2101527076</td>\n",
       "      <td>2806.00</td>\n",
       "      <td>0.00</td>\n",
       "      <td>C1007251739</td>\n",
       "      <td>26202.00</td>\n",
       "      <td>0.00</td>\n",
       "      <td>1</td>\n",
       "      <td>0</td>\n",
       "    </tr>\n",
       "    <tr>\n",
       "      <th>4</th>\n",
       "      <td>680</td>\n",
       "      <td>1</td>\n",
       "      <td>TRANSFER</td>\n",
       "      <td>20128.00</td>\n",
       "      <td>C137533655</td>\n",
       "      <td>20128.00</td>\n",
       "      <td>0.00</td>\n",
       "      <td>C1848415041</td>\n",
       "      <td>0.00</td>\n",
       "      <td>0.00</td>\n",
       "      <td>1</td>\n",
       "      <td>0</td>\n",
       "    </tr>\n",
       "    <tr>\n",
       "      <th>...</th>\n",
       "      <td>...</td>\n",
       "      <td>...</td>\n",
       "      <td>...</td>\n",
       "      <td>...</td>\n",
       "      <td>...</td>\n",
       "      <td>...</td>\n",
       "      <td>...</td>\n",
       "      <td>...</td>\n",
       "      <td>...</td>\n",
       "      <td>...</td>\n",
       "      <td>...</td>\n",
       "      <td>...</td>\n",
       "    </tr>\n",
       "    <tr>\n",
       "      <th>16412</th>\n",
       "      <td>2596607</td>\n",
       "      <td>207</td>\n",
       "      <td>PAYMENT</td>\n",
       "      <td>18588.97</td>\n",
       "      <td>C264877418</td>\n",
       "      <td>393507.58</td>\n",
       "      <td>374918.61</td>\n",
       "      <td>M1037637931</td>\n",
       "      <td>0.00</td>\n",
       "      <td>0.00</td>\n",
       "      <td>0</td>\n",
       "      <td>0</td>\n",
       "    </tr>\n",
       "    <tr>\n",
       "      <th>16413</th>\n",
       "      <td>1740940</td>\n",
       "      <td>161</td>\n",
       "      <td>TRANSFER</td>\n",
       "      <td>94957.41</td>\n",
       "      <td>C1966589833</td>\n",
       "      <td>0.00</td>\n",
       "      <td>0.00</td>\n",
       "      <td>C37728871</td>\n",
       "      <td>827932.92</td>\n",
       "      <td>922890.33</td>\n",
       "      <td>0</td>\n",
       "      <td>0</td>\n",
       "    </tr>\n",
       "    <tr>\n",
       "      <th>16414</th>\n",
       "      <td>1107941</td>\n",
       "      <td>130</td>\n",
       "      <td>PAYMENT</td>\n",
       "      <td>4646.91</td>\n",
       "      <td>C821923409</td>\n",
       "      <td>336051.82</td>\n",
       "      <td>331404.91</td>\n",
       "      <td>M589073853</td>\n",
       "      <td>0.00</td>\n",
       "      <td>0.00</td>\n",
       "      <td>0</td>\n",
       "      <td>0</td>\n",
       "    </tr>\n",
       "    <tr>\n",
       "      <th>16415</th>\n",
       "      <td>5107980</td>\n",
       "      <td>355</td>\n",
       "      <td>DEBIT</td>\n",
       "      <td>2804.53</td>\n",
       "      <td>C1742662400</td>\n",
       "      <td>895.00</td>\n",
       "      <td>0.00</td>\n",
       "      <td>C1661446958</td>\n",
       "      <td>248929.59</td>\n",
       "      <td>251734.12</td>\n",
       "      <td>0</td>\n",
       "      <td>0</td>\n",
       "    </tr>\n",
       "    <tr>\n",
       "      <th>16416</th>\n",
       "      <td>2986857</td>\n",
       "      <td>231</td>\n",
       "      <td>PAYMENT</td>\n",
       "      <td>2536.35</td>\n",
       "      <td>C722862922</td>\n",
       "      <td>419.00</td>\n",
       "      <td>0.00</td>\n",
       "      <td>M1518438460</td>\n",
       "      <td>0.00</td>\n",
       "      <td>0.00</td>\n",
       "      <td>0</td>\n",
       "      <td>0</td>\n",
       "    </tr>\n",
       "  </tbody>\n",
       "</table>\n",
       "<p>16417 rows × 12 columns</p>\n",
       "</div>"
      ],
      "text/plain": [
       "       Unnamed: 0  step      type    amount     nameOrig  oldbalanceOrg  \\\n",
       "0               2     1  TRANSFER    181.00  C1305486145         181.00   \n",
       "1               3     1  CASH_OUT    181.00   C840083671         181.00   \n",
       "2             251     1  TRANSFER   2806.00  C1420196421        2806.00   \n",
       "3             252     1  CASH_OUT   2806.00  C2101527076        2806.00   \n",
       "4             680     1  TRANSFER  20128.00   C137533655       20128.00   \n",
       "...           ...   ...       ...       ...          ...            ...   \n",
       "16412     2596607   207   PAYMENT  18588.97   C264877418      393507.58   \n",
       "16413     1740940   161  TRANSFER  94957.41  C1966589833           0.00   \n",
       "16414     1107941   130   PAYMENT   4646.91   C821923409      336051.82   \n",
       "16415     5107980   355     DEBIT   2804.53  C1742662400         895.00   \n",
       "16416     2986857   231   PAYMENT   2536.35   C722862922         419.00   \n",
       "\n",
       "       newbalanceOrig     nameDest  oldbalanceDest  newbalanceDest  isFraud  \\\n",
       "0                0.00   C553264065            0.00            0.00        1   \n",
       "1                0.00    C38997010        21182.00            0.00        1   \n",
       "2                0.00   C972765878            0.00            0.00        1   \n",
       "3                0.00  C1007251739        26202.00            0.00        1   \n",
       "4                0.00  C1848415041            0.00            0.00        1   \n",
       "...               ...          ...             ...             ...      ...   \n",
       "16412       374918.61  M1037637931            0.00            0.00        0   \n",
       "16413            0.00    C37728871       827932.92       922890.33        0   \n",
       "16414       331404.91   M589073853            0.00            0.00        0   \n",
       "16415            0.00  C1661446958       248929.59       251734.12        0   \n",
       "16416            0.00  M1518438460            0.00            0.00        0   \n",
       "\n",
       "       isFlaggedFraud  \n",
       "0                   0  \n",
       "1                   0  \n",
       "2                   0  \n",
       "3                   0  \n",
       "4                   0  \n",
       "...               ...  \n",
       "16412               0  \n",
       "16413               0  \n",
       "16414               0  \n",
       "16415               0  \n",
       "16416               0  \n",
       "\n",
       "[16417 rows x 12 columns]"
      ]
     },
     "execution_count": 216,
     "metadata": {},
     "output_type": "execute_result"
    }
   ],
   "source": [
    "df.reset_index(drop=True)"
   ]
  },
  {
   "cell_type": "markdown",
   "metadata": {},
   "source": [
    "<p>Dropping the 'Unnamed: 0' column from the dataset.</p>"
   ]
  },
  {
   "cell_type": "code",
   "execution_count": 217,
   "metadata": {},
   "outputs": [],
   "source": [
    "df.drop('Unnamed: 0', axis=1, inplace=True)"
   ]
  },
  {
   "cell_type": "markdown",
   "metadata": {},
   "source": [
    "<h6>Data PreProcessing and Feature Engineering</h6>"
   ]
  },
  {
   "cell_type": "code",
   "execution_count": 218,
   "metadata": {},
   "outputs": [],
   "source": [
    "from sklearn.preprocessing import StandardScaler\n",
    "scaler = StandardScaler()\n",
    "\n",
    "\n",
    "droplist=['step','isFlaggedFraud','type','nameDest','nameOrig']\n",
    "\n",
    "\n",
    "def data_preprocessing(data):\n",
    "    \n",
    "    data['TRANSFER']=data['type'].apply(lambda x: 1 if x=='TRANSFER' else 0)\n",
    "    data['CASH_OUT']=data['type'].apply(lambda x: 1 if x=='CASH_OUT' else 0)\n",
    "    \n",
    "    data['errorBalanceOrig'] = data.newbalanceOrig + data.amount - data.oldbalanceOrg\n",
    "    data['errorBalanceDest'] = data.oldbalanceDest + data.amount - data.newbalanceDest\n",
    "    \n",
    "          \n",
    "    data = data.drop(labels=droplist,axis=1)\n",
    "    \n",
    "    return data"
   ]
  },
  {
   "cell_type": "markdown",
   "metadata": {},
   "source": [
    "<p>Here, one-hot encoding is used to encode the categorical column 'type', and engineer two new columns, 'Transfer' and 'Cash_out'.</p> \n",
    "<p>Two new columns, namely 'errorBalanceOrig' and 'errorBalanceDest' keeps track of the account balance error of the sender and reciever.</p>  "
   ]
  },
  {
   "cell_type": "markdown",
   "metadata": {},
   "source": [
    "<h6>Model Evaluation Function.</h6> \n",
    "<p>This function returns the evaluation details of the model like f1-score, accuracy score, confusion matrix, classification report, etc.</p> "
   ]
  },
  {
   "cell_type": "code",
   "execution_count": 219,
   "metadata": {},
   "outputs": [],
   "source": [
    "def model_result(model,x_test,y_test):\n",
    "    y_pred=model.predict(x_test)\n",
    "    print('F1-score :',(f1_score(y_test,y_pred)))\n",
    "    print('Confusion_matrix : ')\n",
    "    print(confusion_matrix(y_test,y_pred))\n",
    "    print(\"accuracy_score : \", end = '')\n",
    "    print(accuracy_score(y_test,y_pred))\n",
    "    print(\"classification_report\")\n",
    "    print(classification_report(y_test,y_pred))"
   ]
  },
  {
   "cell_type": "markdown",
   "metadata": {},
   "source": [
    "<h6>Train Test Split and Model Training</h6> \n",
    "<p>Importing the libraries for performing train test split.</p>"
   ]
  },
  {
   "cell_type": "code",
   "execution_count": 220,
   "metadata": {},
   "outputs": [],
   "source": [
    "from sklearn.model_selection import train_test_split\n",
    "from sklearn.metrics import accuracy_score, f1_score, average_precision_score, classification_report, confusion_matrix\n",
    "from sklearn.model_selection import cross_val_score"
   ]
  },
  {
   "cell_type": "markdown",
   "metadata": {},
   "source": [
    "<p>Sending the data for preprocessing - </p>"
   ]
  },
  {
   "cell_type": "code",
   "execution_count": 221,
   "metadata": {},
   "outputs": [],
   "source": [
    "df = data_preprocessing(df)"
   ]
  },
  {
   "cell_type": "markdown",
   "metadata": {},
   "source": [
    "<p>Checking the degree of balance in the dataset - </p>"
   ]
  },
  {
   "cell_type": "code",
   "execution_count": 222,
   "metadata": {},
   "outputs": [
    {
     "data": {
      "text/plain": [
       "1    8213\n",
       "0    8204\n",
       "Name: isFraud, dtype: int64"
      ]
     },
     "execution_count": 222,
     "metadata": {},
     "output_type": "execute_result"
    }
   ],
   "source": [
    "df['isFraud'].value_counts()"
   ]
  },
  {
   "cell_type": "markdown",
   "metadata": {},
   "source": [
    "<p>Dropping the target column 'isFraud' and sending it for model training, followed by a 70:30 train test split - </p>"
   ]
  },
  {
   "cell_type": "code",
   "execution_count": 223,
   "metadata": {},
   "outputs": [
    {
     "name": "stdout",
     "output_type": "stream",
     "text": [
      "F1-score : 0.9982046678635548\n",
      "Confusion_matrix : \n",
      "[[2415    1]\n",
      " [   8 2502]]\n",
      "accuracy_score : 0.9981729598051157\n",
      "classification_report\n",
      "              precision    recall  f1-score   support\n",
      "\n",
      "           0       1.00      1.00      1.00      2416\n",
      "           1       1.00      1.00      1.00      2510\n",
      "\n",
      "    accuracy                           1.00      4926\n",
      "   macro avg       1.00      1.00      1.00      4926\n",
      "weighted avg       1.00      1.00      1.00      4926\n",
      "\n"
     ]
    }
   ],
   "source": [
    "\n",
    "X = df.drop('isFraud',axis=1)\n",
    "Y = df['isFraud']\n",
    "X = scaler.fit_transform(X) \n",
    "\n",
    "X_train, X_test, y_train, y_test = train_test_split(X, Y, test_size = 0.3, shuffle=True)\n",
    "from sklearn.ensemble import RandomForestClassifier\n",
    "rf_model = RandomForestClassifier()\n",
    "rf_model.fit(X_train,y_train)\n",
    "model_result(rf_model,X_test,y_test)"
   ]
  },
  {
   "cell_type": "markdown",
   "metadata": {},
   "source": [
    "<p>The classification report shows that the model gives an f1-score of 1, an accuracy score of 0.99, along with a precision and recall score of 1, showing it's excellent performance in the test data.</p>"
   ]
  },
  {
   "cell_type": "markdown",
   "metadata": {},
   "source": [
    "<p>Pickling the model into a save file - </p>"
   ]
  },
  {
   "cell_type": "code",
   "execution_count": 224,
   "metadata": {},
   "outputs": [],
   "source": [
    "filename = 'final_model.sav'\n",
    "pickle.dump(rf_model, open(filename, 'wb'))"
   ]
  },
  {
   "cell_type": "markdown",
   "metadata": {},
   "source": []
  },
  {
   "cell_type": "markdown",
   "metadata": {},
   "source": [
    "<h6>Model Testing</h6>\n",
    "<p>Giving the dataset custom values for prediction.</p>"
   ]
  },
  {
   "cell_type": "code",
   "execution_count": 24,
   "metadata": {},
   "outputs": [
    {
     "name": "stdout",
     "output_type": "stream",
     "text": [
      "fraud\n"
     ]
    }
   ],
   "source": [
    "lst = [1,\n",
    "     2806.00,\n",
    "      'C1305486145',\n",
    "      2806.00,\n",
    "      0.00,\n",
    "      'C553264065',\n",
    "      26202.00,\n",
    "      0.00,\n",
    "      'CASH_OUT']\n",
    "#1\tCASH_OUT\t2806.00\tC2101527076\t2806.00\t0.00\tC1007251739\t26202.00\t0.00\t1\t\n",
    "#1\tCASH_OUT\t181.00\tC840083671\t181.00\t0.00\tC38997010\t21182.00\t0.00\t\n",
    "\n",
    "arr = np.array(lst).reshape(1,-1)\n",
    "\n",
    "def data_preprocessing(data):\n",
    "    \n",
    "    #Ivde extracting nameOrig and nameDest where C is present\n",
    "    \n",
    "    droplist=['step','type','nameDest','nameOrig']\n",
    "\n",
    "    \n",
    "#     data['OrigC']=data['nameOrig'].apply(lambda x: 1 if str(x).find('C')==0 else 0)\n",
    "#     data['DestC']=data['nameDest'].apply(lambda x: 1 if str(x).find('C')==0 else 0)\n",
    "\n",
    "    #Ivde creating new feature for transfer and cash_out\n",
    "    data['TRANSFER']=data['type'].apply(lambda x: 1 if x=='TRANSFER' else 0)\n",
    "    data['CASH_OUT']=data['type'].apply(lambda x: 1 if x=='CASH_OUT' else 0)\n",
    "    \n",
    "    #Ivde extracting error in account balances\n",
    "    data['errorBalanceOrig'] = data.newbalanceOrig + data.amount - data.oldbalanceOrg\n",
    "    data['errorBalanceDest'] = data.oldbalanceDest + data.amount - data.newbalanceDest\n",
    "       \n",
    "    data = data.drop(labels=droplist,axis=1)\n",
    "    \n",
    "    \n",
    "    return data\n",
    "\n",
    "\n",
    "\n",
    "df = pd.DataFrame(data = arr,\n",
    "                  columns = ['step', 'amount', 'nameOrig','oldbalanceOrg', 'newbalanceOrig', 'nameDest', \n",
    "                  'oldbalanceDest', 'newbalanceDest', 'type'])\n",
    "\n",
    "df['step'] = df['step'].astype(int)\n",
    "df['amount'] = df['amount'].astype(float)\n",
    "df['oldbalanceOrg'] = df['oldbalanceOrg'].astype(float)\n",
    "df['newbalanceOrig'] = df['newbalanceOrig'].astype(float)\n",
    "df['oldbalanceDest'] = df['oldbalanceDest'].astype(float)\n",
    "df['newbalanceDest'] = df['newbalanceDest'].astype(float)    \n",
    "\n",
    "\n",
    "df = data_preprocessing(df)\n",
    "#df = scaler.transform(df)\n",
    "\n",
    "\n",
    "model = pickle.load(open('final_model.sav','rb'))\n",
    "\n",
    "prediction = model.predict(df)\n",
    "if prediction[0]==1:\n",
    "        print('fraud')\n",
    "elif prediction[0] ==0:\n",
    "        print('safe')"
   ]
  },
  {
   "cell_type": "markdown",
   "metadata": {},
   "source": [
    "<p>The model gives accurate predictions.</p>"
   ]
  },
  {
   "cell_type": "markdown",
   "metadata": {},
   "source": [
    "<p>A notebook by  Hari Govind V</p>"
   ]
  }
 ],
 "metadata": {
  "kernelspec": {
   "display_name": "Python 3",
   "language": "python",
   "name": "python3"
  },
  "language_info": {
   "codemirror_mode": {
    "name": "ipython",
    "version": 3
   },
   "file_extension": ".py",
   "mimetype": "text/x-python",
   "name": "python",
   "nbconvert_exporter": "python",
   "pygments_lexer": "ipython3",
   "version": "3.7.6"
  }
 },
 "nbformat": 4,
 "nbformat_minor": 4
}
